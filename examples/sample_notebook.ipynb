{
 "cells": [
  {
   "cell_type": "markdown",
   "id": "f7ae9b77",
   "metadata": {},
   "source": [
    "# Spark Sample Notebook\n",
    "\n",
    "This notebook demonstrates how to connect to the Bitnami Root Spark Docker container and run basic Spark operations."
   ]
  },
  {
   "cell_type": "code",
   "execution_count": null,
   "id": "6cb6306a",
   "metadata": {},
   "outputs": [],
   "source": [
    "# Step 1: Initialize Spark connection\n",
    "import findspark\n",
    "findspark.init()\n",
    "\n",
    "from pyspark.sql import SparkSession\n",
    "\n",
    "# Create a Spark session connected to your Docker cluster\n",
    "spark = SparkSession.builder \\\n",
    "    .appName(\"VSCode Sample Notebook\") \\\n",
    "    .master(\"spark://localhost:7077\") \\\n",
    "    .config(\"spark.driver.memory\", \"1g\") \\\n",
    "    .getOrCreate()\n",
    "\n",
    "# Verify connection\n",
    "print(f\"Spark version: {spark.version}\")\n",
    "print(f\"Spark UI: {spark.sparkContext.uiWebUrl}\")"
   ]
  },
  {
   "cell_type": "markdown",
   "id": "6ea6137e",
   "metadata": {},
   "source": [
    "## Creating and Working with DataFrames\n",
    "\n",
    "The following cells demonstrate how to create and manipulate Spark DataFrames."
   ]
  },
  {
   "cell_type": "code",
   "execution_count": null,
   "id": "754b0805",
   "metadata": {},
   "outputs": [],
   "source": [
    "# Step 2: Create a sample DataFrame\n",
    "data = [\n",
    "    (\"Alice\", 34, \"Data Scientist\"),\n",
    "    (\"Bob\", 45, \"Software Engineer\"),\n",
    "    (\"Charlie\", 29, \"Data Analyst\"),\n",
    "    (\"Diana\", 41, \"DevOps Engineer\"),\n",
    "    (\"Evan\", 37, \"ML Engineer\")\n",
    "]\n",
    "\n",
    "# Define the schema\n",
    "schema = [\"Name\", \"Age\", \"Occupation\"]\n",
    "\n",
    "# Create DataFrame\n",
    "df = spark.createDataFrame(data, schema)\n",
    "\n",
    "# Display the DataFrame\n",
    "print(\"Sample DataFrame:\")\n",
    "df.show()\n",
    "\n",
    "# Print the schema\n",
    "print(\"DataFrame Schema:\")\n",
    "df.printSchema()"
   ]
  },
  {
   "cell_type": "markdown",
   "id": "f7c99703",
   "metadata": {},
   "source": [
    "## Data Transformation Examples\n",
    "\n",
    "Now let's perform some basic transformations on our data."
   ]
  },
  {
   "cell_type": "code",
   "execution_count": null,
   "id": "33cfa464",
   "metadata": {},
   "outputs": [],
   "source": [
    "# Step 3: Perform transformations\n",
    "from pyspark.sql.functions import col, upper, avg, desc\n",
    "\n",
    "# Example 1: Filter data\n",
    "filtered_df = df.filter(col(\"Age\") > 35)\n",
    "print(\"People older than 35:\")\n",
    "filtered_df.show()\n",
    "\n",
    "# Example 2: Transform data\n",
    "transformed_df = df.withColumn(\"UPPERCASE_NAME\", upper(col(\"Name\")))\n",
    "print(\"Names in uppercase:\")\n",
    "transformed_df.select(\"Name\", \"UPPERCASE_NAME\").show()\n",
    "\n",
    "# Example 3: Aggregations\n",
    "avg_age = df.groupBy(\"Occupation\").agg(avg(\"Age\").alias(\"Average_Age\"))\n",
    "print(\"Average age by occupation:\")\n",
    "avg_age.orderBy(desc(\"Average_Age\")).show()"
   ]
  },
  {
   "cell_type": "markdown",
   "id": "19d9cd30",
   "metadata": {},
   "source": [
    "## Creating a Temporary View and Using SQL\n",
    "\n",
    "Spark allows you to run SQL queries on DataFrames by creating temporary views."
   ]
  },
  {
   "cell_type": "code",
   "execution_count": null,
   "id": "63a56fb7",
   "metadata": {},
   "outputs": [],
   "source": [
    "# Step 4: Using SQL with Spark\n",
    "# Create a temporary view\n",
    "df.createOrReplaceTempView(\"employees\")\n",
    "\n",
    "# Run SQL queries\n",
    "sql_result = spark.sql(\"\"\"\n",
    "    SELECT Occupation, COUNT(*) as Count, AVG(Age) as Avg_Age\n",
    "    FROM employees\n",
    "    GROUP BY Occupation\n",
    "    ORDER BY Count DESC\n",
    "\"\"\")\n",
    "\n",
    "print(\"SQL Query Result:\")\n",
    "sql_result.show()"
   ]
  },
  {
   "cell_type": "markdown",
   "id": "396733ff",
   "metadata": {},
   "source": [
    "## Working with External Data\n",
    "\n",
    "You can also read from and write to various file formats."
   ]
  },
  {
   "cell_type": "code",
   "execution_count": null,
   "id": "f288dbf3",
   "metadata": {},
   "outputs": [],
   "source": [
    "# Step 5: Write DataFrame to CSV\n",
    "# Write to a CSV file in the shared volume\n",
    "df.write.mode(\"overwrite\").option(\"header\", \"true\").csv(\"/data/employees.csv\")\n",
    "print(\"DataFrame written to /data/employees.csv\")\n",
    "\n",
    "# Read it back\n",
    "read_df = spark.read.option(\"header\", \"true\").csv(\"/data/employees.csv\")\n",
    "print(\"DataFrame read from CSV:\")\n",
    "read_df.show()"
   ]
  },
  {
   "cell_type": "markdown",
   "id": "3d9ed709",
   "metadata": {},
   "source": [
    "## Closing the Spark Session\n",
    "\n",
    "Always remember to close your Spark session when you're done."
   ]
  },
  {
   "cell_type": "code",
   "execution_count": null,
   "id": "93e6ac30",
   "metadata": {},
   "outputs": [],
   "source": [
    "# Step 6: Stop the Spark session when finished\n",
    "spark.stop()\n",
    "print(\"Spark session stopped\")"
   ]
  }
 ],
 "metadata": {
  "language_info": {
   "name": "python"
  }
 },
 "nbformat": 4,
 "nbformat_minor": 5
}
